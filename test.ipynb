{
 "cells": [
  {
   "cell_type": "markdown",
   "metadata": {},
   "source": [
    "### Code du professeur fonctionnel ###\n"
   ]
  },
  {
   "cell_type": "code",
   "execution_count": null,
   "metadata": {},
   "outputs": [],
   "source": [
    "from astropy.io import fits\n",
    "import matplotlib.pyplot as plt \n",
    "\n",
    "data = fits.getdata('image_test/Tarantula_Nebula-sii.fit')\n",
    "\n",
    "plt.imshow(data , cmap='gray')\n",
    "plt.colorbar()\n",
    "plt.show()"
   ]
  },
  {
   "cell_type": "code",
   "execution_count": 9,
   "metadata": {},
   "outputs": [
    {
     "name": "stdout",
     "output_type": "stream",
     "text": [
      "Taille du fichier : 112.10 MB\n",
      "Downloading URL https://mast.stsci.edu/api/v0.1/Download/file?uri=mast:JWST/product/jw01635052001_05201_00001_nrca1_cal.fits to image_test/mastDownload/JWST/jw01635052001_05201_00001_nrca1/jw01635052001_05201_00001_nrca1_cal.fits ... [Done]\n",
      "Downloading URL https://mast.stsci.edu/api/v0.1/Download/file?uri=mast:JWST/product/jw01635052001_05201_00001_nrca1_i2d.fits to image_test/mastDownload/JWST/jw01635052001_05201_00001_nrca1/jw01635052001_05201_00001_nrca1_i2d.fits ... [Done]\n",
      "Downloading URL https://mast.stsci.edu/api/v0.1/Download/file?uri=mast:JWST/product/jw01635052001_05201_00001_nrca1_o052_crf.fits to image_test/mastDownload/JWST/jw01635052001_05201_00001_nrca1/jw01635052001_05201_00001_nrca1_o052_crf.fits ... [Done]\n",
      "Taille du fichier : 112.10 MB\n",
      "Downloading URL https://mast.stsci.edu/api/v0.1/Download/file?uri=mast:JWST/product/jw01635052001_06201_00001_nrca4_cal.fits to image_test/mastDownload/JWST/jw01635052001_06201_00001_nrca4/jw01635052001_06201_00001_nrca4_cal.fits ... [Done]\n",
      "Downloading URL https://mast.stsci.edu/api/v0.1/Download/file?uri=mast:JWST/product/jw01635052001_06201_00001_nrca4_i2d.fits to image_test/mastDownload/JWST/jw01635052001_06201_00001_nrca4/jw01635052001_06201_00001_nrca4_i2d.fits ... [Done]\n",
      "Downloading URL https://mast.stsci.edu/api/v0.1/Download/file?uri=mast:JWST/product/jw01635052001_06201_00001_nrca4_o052_crf.fits to image_test/mastDownload/JWST/jw01635052001_06201_00001_nrca4/jw01635052001_06201_00001_nrca4_o052_crf.fits ... [Done]\n",
      "Taille du fichier : 112.10 MB\n",
      "Downloading URL https://mast.stsci.edu/api/v0.1/Download/file?uri=mast:JWST/product/jw01635052001_08201_00001_nrcb4_cal.fits to image_test/mastDownload/JWST/jw01635052001_08201_00001_nrcb4/jw01635052001_08201_00001_nrcb4_cal.fits ... [Done]\n",
      "Downloading URL https://mast.stsci.edu/api/v0.1/Download/file?uri=mast:JWST/product/jw01635052001_08201_00001_nrcb4_i2d.fits to image_test/mastDownload/JWST/jw01635052001_08201_00001_nrcb4/jw01635052001_08201_00001_nrcb4_i2d.fits ... [Done]\n",
      "Downloading URL https://mast.stsci.edu/api/v0.1/Download/file?uri=mast:JWST/product/jw01635052001_08201_00001_nrcb4_o052_crf.fits to image_test/mastDownload/JWST/jw01635052001_08201_00001_nrcb4/jw01635052001_08201_00001_nrcb4_o052_crf.fits ... [Done]\n",
      "Les trois fichiers téléchargés ont la même taille.\n"
     ]
    }
   ],
   "source": [
    "from astroquery.mast import Observations\n",
    "from astropy.coordinates import SkyCoord\n",
    "from astropy import units as u\n",
    "import pandas as pd\n",
    "import os\n",
    "import numpy as np\n",
    "\n",
    "def get_filtered_observations(ra, dec, radius, satellite_name):\n",
    "    obs = Observations.query_object(f\"{ra} {dec}\", radius=radius)\n",
    "    return obs[obs['obs_collection'] == satellite_name]\n",
    "\n",
    "def get_most_common_prefix(obs_ids):\n",
    "    prefixes = obs_ids.str.extract('(^[a-zA-Z0-9_]+)', expand=False)\n",
    "    return prefixes.value_counts().idxmax()\n",
    "\n",
    "def get_sorted_observations(obs_filtered_by_prefix, ra, dec):\n",
    "    coord = SkyCoord(ra, dec, unit=(u.deg, u.deg), frame='icrs')\n",
    "    obs_coords = SkyCoord(obs_filtered_by_prefix['s_ra'], obs_filtered_by_prefix['s_dec'], unit=(u.deg, u.deg), frame='icrs')\n",
    "    distances = coord.separation(obs_coords)\n",
    "    obs_filtered_by_prefix['distance'] = distances\n",
    "    return obs_filtered_by_prefix[np.argsort(obs_filtered_by_prefix['distance'])]\n",
    "\n",
    "def download_fits_files(obs_filtered_by_prefix_sorted, download_directory):\n",
    "    os.makedirs(download_directory, exist_ok=True)\n",
    "    fits_downloaded = 0\n",
    "    first_file = True\n",
    "    file_sizes = []\n",
    "    for obs in obs_filtered_by_prefix_sorted:\n",
    "        if fits_downloaded >= 3:\n",
    "            break\n",
    "        product_list = Observations.get_product_list(obs)\n",
    "        science_products = Observations.filter_products(product_list, productType=\"SCIENCE\", extension=\"fits\")\n",
    "        if len(science_products) > 0:\n",
    "            file_size = science_products[0]['size']\n",
    "            print(f\"Taille du fichier : {file_size / (1024 * 1024):.2f} MB\")\n",
    "            if first_file:\n",
    "                user_input = input(f\"Voulez-vous télécharger les fichiers, ils pèsent {file_size / (1024 * 1024):.2f} MB? (o/n): \").strip().lower()\n",
    "                if user_input == 'o':\n",
    "                    Observations.download_products(science_products[:3], download_dir=download_directory, cache=False)\n",
    "                    fits_downloaded += 1\n",
    "                    file_sizes.append(file_size)\n",
    "                    first_file = False\n",
    "                else:\n",
    "                    print(\"Téléchargement annulé. Essayez un autre satellite qui aura une image moins lourde.\")\n",
    "                    break\n",
    "            else:\n",
    "                Observations.download_products(science_products[:3], download_dir=download_directory, cache=False)\n",
    "                fits_downloaded += 1\n",
    "                file_sizes.append(file_size)\n",
    "\n",
    "    if len(file_sizes) == 3 and len(set(file_sizes)) == 1:\n",
    "        print(\"Les trois fichiers téléchargés ont la même taille.\")\n",
    "    else:\n",
    "        print(\"Les fichiers téléchargés n'ont pas la même taille.\")\n",
    "\n",
    "\n",
    "def main():\n",
    "    ra = 279.23473479\n",
    "    dec = 38.78368896\n",
    "    radius = \"0.01 deg\"\n",
    "    satellite_name = \"JWST\"\n",
    "    obs_filtered = get_filtered_observations(ra, dec, radius, satellite_name)\n",
    "    if len(obs_filtered) > 0:\n",
    "        obs_ids = pd.Series(obs_filtered['obs_id'], dtype=str)\n",
    "        most_common_prefix = get_most_common_prefix(obs_ids)\n",
    "        mask = obs_ids.str.startswith(most_common_prefix).to_numpy()\n",
    "        obs_filtered_by_prefix = obs_filtered[mask]\n",
    "        obs_filtered_by_prefix_sorted = get_sorted_observations(obs_filtered_by_prefix, ra, dec)\n",
    "        download_directory = \"image_test/\"\n",
    "        download_fits_files(obs_filtered_by_prefix_sorted, download_directory)\n",
    "\n",
    "if __name__ == \"__main__\":\n",
    "    main()\n"
   ]
  }
 ],
 "metadata": {
  "kernelspec": {
   "display_name": "Python 3",
   "language": "python",
   "name": "python3"
  },
  "language_info": {
   "codemirror_mode": {
    "name": "ipython",
    "version": 3
   },
   "file_extension": ".py",
   "mimetype": "text/x-python",
   "name": "python",
   "nbconvert_exporter": "python",
   "pygments_lexer": "ipython3",
   "version": "3.12.3"
  }
 },
 "nbformat": 4,
 "nbformat_minor": 2
}
